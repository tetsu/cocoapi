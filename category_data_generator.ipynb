{
 "cells": [
  {
   "cell_type": "code",
   "execution_count": 2,
   "metadata": {},
   "outputs": [
    {
     "name": "stdout",
     "output_type": "stream",
     "text": [
      "loading annotations into memory...\n",
      "Done (t=0.32s)\n",
      "creating index...\n",
      "index created!\n"
     ]
    }
   ],
   "source": [
    "from pycocotools.coco import COCO\n",
    "import sys\n",
    "import pandas as pd\n",
    "\n",
    "\n",
    "# Initializations (make them as arguments)\n",
    "cat_of_interest = \"person\" # supports only one category.\n",
    "ann_file = \"./COCOdataset2017/annotations/instances_val2017.json\"\n",
    "save_path = \"./COCOdataset2017/annotations/instance_val2017_person.json\"\n",
    "\n",
    "# COCO instance\n",
    "coco = COCO(ann_file)\n",
    "\n",
    "# get category id\n",
    "cat_id  = coco.getCatIds(catNms=[cat_of_interest])\n",
    "\n",
    "# get annotation ids for current category\n",
    "ann_ids = coco.getAnnIds(catIds=cat_id, iscrowd=None)\n",
    "all_ann = coco.loadAnns(ann_ids)\n",
    " \n",
    "# Loop through each annotation and create a data frame with necessary\n",
    "#     information to create csv file. This file later aids in creating\n",
    "#     tensorflow record.\n",
    "\n",
    "df_rows = []\n",
    "for i in range(0, len(all_ann)):\n",
    "    cur_ann    = all_ann[i]\n",
    "    cbbox      = cur_ann[\"bbox\"]\n",
    "    cimg_info  = coco.loadImgs(cur_ann[\"image_id\"])\n",
    "\n",
    "    if(len(cimg_info) > 1):\n",
    "        print(\"ERROR: More than one image got loaded\")\n",
    "        sys.exit(1)\n",
    "        \n",
    "    filename   = cimg_info[0][\"file_name\"]\n",
    "    cur_class  = cat_of_interest\n",
    "    width    = cimg_info[0][\"width\"]\n",
    "    height   = cimg_info[0][\"height\"]\n",
    "    xmin     = int(cbbox[0])\n",
    "    ymin     = int(cbbox[1])\n",
    "    xmax     = min(int(xmin + cbbox[2]), width-1)\n",
    "    ymax     = min(int(ymin + cbbox[3]), height-1)\n",
    "\n",
    "    df_rows  = df_rows + [[filename, str(width), str(height), cur_class,\n",
    "                           str(xmin), str(ymin), str(xmax), str(ymax)]]\n",
    "\n",
    "df=pd.DataFrame(df_rows, columns=[\"filename\", \"width\", \"height\", \"class\",\n",
    "                           \"xmin\", \"ymin\", \"xmax\", \"ymax\"])\n",
    "df.to_json(save_path)"
   ]
  },
  {
   "cell_type": "code",
   "execution_count": 5,
   "metadata": {},
   "outputs": [
    {
     "name": "stdout",
     "output_type": "stream",
     "text": [
      "11004\n"
     ]
    }
   ],
   "source": [
    "print(len(ann_ids))"
   ]
  },
  {
   "cell_type": "code",
   "execution_count": null,
   "metadata": {},
   "outputs": [],
   "source": []
  }
 ],
 "metadata": {
  "kernelspec": {
   "display_name": "Python 3",
   "language": "python",
   "name": "python3"
  },
  "language_info": {
   "codemirror_mode": {
    "name": "ipython",
    "version": 3
   },
   "file_extension": ".py",
   "mimetype": "text/x-python",
   "name": "python",
   "nbconvert_exporter": "python",
   "pygments_lexer": "ipython3",
   "version": "3.7.7"
  }
 },
 "nbformat": 4,
 "nbformat_minor": 4
}
